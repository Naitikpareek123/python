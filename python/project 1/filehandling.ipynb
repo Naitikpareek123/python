{
 "cells": [
  {
   "cell_type": "code",
   "execution_count": 11,
   "metadata": {},
   "outputs": [
    {
     "name": "stdout",
     "output_type": "stream",
     "text": [
      "['hello']\n"
     ]
    }
   ],
   "source": [
    "with open('demofile.txt','r')as f:\n",
    "    l=f.readlines()\n",
    "    print(l)"
   ]
  },
  {
   "cell_type": "code",
   "execution_count": 4,
   "metadata": {},
   "outputs": [],
   "source": [
    "with open('demofile.txt','w')as f:  #write lines\n",
    "    f.write('hello')"
   ]
  },
  {
   "cell_type": "code",
   "execution_count": 15,
   "metadata": {},
   "outputs": [],
   "source": [
    "with open('demofile.txt','a')as f:  #use in multiply lines\n",
    "    f.writelines(['hi','naitik'])"
   ]
  },
  {
   "cell_type": "code",
   "execution_count": 18,
   "metadata": {},
   "outputs": [
    {
     "name": "stdout",
     "output_type": "stream",
     "text": [
      "\n"
     ]
    }
   ],
   "source": [
    "l=['a','b','c']\n",
    "with open('demofile.txt','w')as f:\n",
    "    f.writelines('\\n'.join(l))\n",
    "    with open('demofile.txt','r')as f:\n",
    "        print(f.read())"
   ]
  },
  {
   "cell_type": "code",
   "execution_count": 32,
   "metadata": {},
   "outputs": [
    {
     "name": "stdout",
     "output_type": "stream",
     "text": [
      "1\n",
      "52\n",
      "0\n"
     ]
    }
   ],
   "source": [
    "l=[15,20]\n",
    "with open('demofile.txt','w')as f:\n",
    "    for v in l:\n",
    "        x = str(v)\n",
    "        f.writelines('\\n'.join(x))\n",
    "with open('demofile.txt','r')as f:\n",
    "    print(f.read())"
   ]
  },
  {
   "cell_type": "code",
   "execution_count": 30,
   "metadata": {},
   "outputs": [],
   "source": [
    "s=['a','b']\n",
    "s1=['\\nc','d']\n",
    "with open('h.txt','a')as f:\n",
    "    f.write('\\n'.join(s1))"
   ]
  },
  {
   "cell_type": "code",
   "execution_count": 34,
   "metadata": {},
   "outputs": [],
   "source": [
    "d={'k1':[1,2,3],'k2':[4,5]}\n",
    "with open('demofile.txt','w')as f:  #write lines\n",
    "    f.write(str(d))"
   ]
  },
  {
   "cell_type": "code",
   "execution_count": 38,
   "metadata": {},
   "outputs": [],
   "source": [
    "d={'name':'Naitik',\n",
    "   'age':20}\n",
    "with open('demofile.txt','w')as f:  #write lines\n",
    "    for k,v in d.items():\n",
    "        f.write('%s:%s\\n'%(k,v))"
   ]
  },
  {
   "cell_type": "code",
   "execution_count": null,
   "metadata": {},
   "outputs": [],
   "source": []
  }
 ],
 "metadata": {
  "kernelspec": {
   "display_name": "Python 3",
   "language": "python",
   "name": "python3"
  },
  "language_info": {
   "codemirror_mode": {
    "name": "ipython",
    "version": 3
   },
   "file_extension": ".py",
   "mimetype": "text/x-python",
   "name": "python",
   "nbconvert_exporter": "python",
   "pygments_lexer": "ipython3",
   "version": "3.9.13"
  },
  "orig_nbformat": 4
 },
 "nbformat": 4,
 "nbformat_minor": 2
}
